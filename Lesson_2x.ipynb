{
  "cells": [
    {
      "cell_type": "markdown",
      "metadata": {
        "id": "sxKCIcdgk1_N"
      },
      "source": [
        "## **Lesson 2:** A simple example of data analysis on Codespace\n",
        "Congratulations team. Our commercial team has landed a potential customer, the City of Chicago, and they want us to analyze the crime data in the city. They have provided a dataset, and they want us to showcase our skills by giving a sneak peek of what we can understand from the data. As this is our first assignment, the management want everybody to take the task and create a repository with the code for the analysis.\n",
        "\n",
        "### **Section 1:** Basic commands on the terminal\n",
        "\n",
        "To make our work reproducible, we need an isolated environment to run our scripts. In Google Colab, you get an ephemeral virtual machine (with RAM and GB), where you can create notebooks and run scripts and even terminal commands. In Codespaces, you can spin up an ephemeral virtual machine (with RAM and GB) where you can sync your files with the repository. Let's learn some basic commands."
      ]
    },
    {
      "cell_type": "code",
      "execution_count": 30,
      "metadata": {
        "id": "vYkzM0LXl5rd"
      },
      "outputs": [
        {
          "name": "stdout",
          "output_type": "stream",
          "text": [
            "Python 3.12.1\n"
          ]
        }
      ],
      "source": [
        "# View python version\n",
        "!python --version"
      ]
    },
    {
      "cell_type": "code",
      "execution_count": 31,
      "metadata": {
        "id": "GtZcSy5kkD90"
      },
      "outputs": [
        {
          "name": "stdout",
          "output_type": "stream",
          "text": [
            "asttokens==2.4.1\n",
            "attrs==24.2.0\n",
            "comm==0.2.2\n",
            "contourpy==1.3.0\n",
            "cycler==0.12.1\n",
            "debugpy==1.8.5\n",
            "decorator==5.1.1\n",
            "executing==2.0.1\n",
            "fastjsonschema==2.20.0\n",
            "fonttools==4.53.1\n",
            "ipykernel==6.29.5\n",
            "ipython==8.26.0\n",
            "jedi==0.19.1\n",
            "jsonschema==4.23.0\n",
            "jsonschema-specifications==2023.12.1\n",
            "jupyter_client==8.6.2\n",
            "jupyter_core==5.7.2\n",
            "kiwisolver==1.4.5\n",
            "matplotlib==3.9.2\n",
            "matplotlib-inline==0.1.7\n",
            "nbformat==5.10.4\n",
            "nest-asyncio==1.6.0\n",
            "numpy==2.1.0\n",
            "packaging==24.1\n",
            "pandas==2.2.2\n",
            "parso==0.8.4\n",
            "pexpect==4.9.0\n",
            "pillow==10.4.0\n",
            "platformdirs==4.2.2\n",
            "prompt_toolkit==3.0.47\n",
            "psutil==6.0.0\n",
            "ptyprocess==0.7.0\n",
            "pure_eval==0.2.3\n",
            "Pygments==2.18.0\n",
            "pyparsing==3.1.4\n",
            "python-dateutil==2.9.0.post0\n",
            "pytz==2024.1\n",
            "pyzmq==26.2.0\n",
            "referencing==0.35.1\n",
            "rpds-py==0.20.0\n",
            "six==1.16.0\n",
            "stack-data==0.6.3\n",
            "tornado==6.4.1\n",
            "traitlets==5.14.3\n",
            "tzdata==2024.1\n",
            "wcwidth==0.2.13\n"
          ]
        }
      ],
      "source": [
        "# List installed packages\n",
        "!pip freeze"
      ]
    },
    {
      "cell_type": "code",
      "execution_count": 32,
      "metadata": {
        "id": "SKtTyegumR_V"
      },
      "outputs": [
        {
          "name": "stdout",
          "output_type": "stream",
          "text": [
            "/workspaces/crimenes_chicago\n"
          ]
        }
      ],
      "source": [
        "# View current directory\n",
        "!pwd\n"
      ]
    },
    {
      "cell_type": "code",
      "execution_count": 33,
      "metadata": {
        "id": "uftQ3Yv-mLCY"
      },
      "outputs": [
        {
          "name": "stdout",
          "output_type": "stream",
          "text": [
            "Lesson_2x.ipynb  README.md  data_crimes.csv  files.txt\n"
          ]
        }
      ],
      "source": [
        "# View current files\n",
        "!ls"
      ]
    },
    {
      "cell_type": "code",
      "execution_count": 34,
      "metadata": {
        "id": "1IH4APiacnWV"
      },
      "outputs": [],
      "source": [
        "# Create a file\n",
        "!touch files.txt"
      ]
    },
    {
      "cell_type": "code",
      "execution_count": 35,
      "metadata": {
        "id": "UKISVCPMcu9S"
      },
      "outputs": [],
      "source": [
        "# Add the file and then commit into the local repo"
      ]
    },
    {
      "cell_type": "code",
      "execution_count": 36,
      "metadata": {
        "id": "K87eUci7c4RE"
      },
      "outputs": [],
      "source": [
        "# Push the file into the remote repo"
      ]
    },
    {
      "cell_type": "markdown",
      "metadata": {
        "id": "dnWi9xeenTpG"
      },
      "source": [
        "### **Section 2:** Let's dive into reading data\n",
        "\n",
        "Download the following file from this url: https://data.cityofchicago.org/api/views/qnmj-8ku6/rows.csv?accessType=DOWNLOAD\n",
        "\n",
        "It has records from the Crimes - 2001 to Present dataset for the 2014 year[1].\n",
        "\n",
        "Please, answer the following questions:\n",
        "1. How many crimes were reported in 2014?\n",
        "2. How many crimes were reported in December 2014?\n",
        "3. What are the top 5 crimes?\n",
        "4. Which day has the most and less crimes?\n",
        "5. Is there a trend in the crimes commited?"
      ]
    },
    {
      "cell_type": "code",
      "execution_count": 37,
      "metadata": {
        "id": "qFO8sTAXdvUC"
      },
      "outputs": [
        {
          "name": "stdout",
          "output_type": "stream",
          "text": [
            "  % Total    % Received % Xferd  Average Speed   Time    Time     Time  Current\n",
            "                                 Dload  Upload   Total   Spent    Left  Speed\n",
            "100 62.3M    0 62.3M    0     0  2620k      0 --:--:--  0:00:24 --:--:-- 2720k\n"
          ]
        }
      ],
      "source": [
        "# Download the file using the terminal\n",
        "!curl -o data_crimes.csv https://data.cityofchicago.org/api/views/qnmj-8ku6/rows.csv?accessType=DOWNLOAD"
      ]
    },
    {
      "cell_type": "code",
      "execution_count": 38,
      "metadata": {
        "id": "TBNn-6OboNl4"
      },
      "outputs": [],
      "source": [
        "# Step 0. Load libraries and custom functions\n",
        "import pandas as pd\n",
        "import matplotlib.pyplot as plt\n",
        "import numpy as np\n"
      ]
    },
    {
      "cell_type": "code",
      "execution_count": 39,
      "metadata": {
        "id": "KJqXT1BfopU2"
      },
      "outputs": [],
      "source": [
        "# Step 1. Read data and get a quick view\n",
        "# 1.1 Read the dataset\n",
        "df_raw = pd.read_csv(\"data_crimes.csv\")\n"
      ]
    },
    {
      "cell_type": "code",
      "execution_count": 40,
      "metadata": {
        "id": "B7h16x52p3CO"
      },
      "outputs": [
        {
          "data": {
            "text/html": [
              "<div>\n",
              "<style scoped>\n",
              "    .dataframe tbody tr th:only-of-type {\n",
              "        vertical-align: middle;\n",
              "    }\n",
              "\n",
              "    .dataframe tbody tr th {\n",
              "        vertical-align: top;\n",
              "    }\n",
              "\n",
              "    .dataframe thead th {\n",
              "        text-align: right;\n",
              "    }\n",
              "</style>\n",
              "<table border=\"1\" class=\"dataframe\">\n",
              "  <thead>\n",
              "    <tr style=\"text-align: right;\">\n",
              "      <th></th>\n",
              "      <th>ID</th>\n",
              "      <th>Case Number</th>\n",
              "      <th>Date</th>\n",
              "      <th>Block</th>\n",
              "      <th>IUCR</th>\n",
              "      <th>Primary Type</th>\n",
              "      <th>Description</th>\n",
              "      <th>Location Description</th>\n",
              "      <th>Arrest</th>\n",
              "      <th>Domestic</th>\n",
              "      <th>...</th>\n",
              "      <th>Ward</th>\n",
              "      <th>Community Area</th>\n",
              "      <th>FBI Code</th>\n",
              "      <th>X Coordinate</th>\n",
              "      <th>Y Coordinate</th>\n",
              "      <th>Year</th>\n",
              "      <th>Updated On</th>\n",
              "      <th>Latitude</th>\n",
              "      <th>Longitude</th>\n",
              "      <th>Location</th>\n",
              "    </tr>\n",
              "  </thead>\n",
              "  <tbody>\n",
              "    <tr>\n",
              "      <th>59768</th>\n",
              "      <td>9615584</td>\n",
              "      <td>HX265228</td>\n",
              "      <td>05/17/2014 12:25:00 PM</td>\n",
              "      <td>049XX W CRYSTAL ST</td>\n",
              "      <td>0320</td>\n",
              "      <td>ROBBERY</td>\n",
              "      <td>STRONGARM - NO WEAPON</td>\n",
              "      <td>RESIDENCE</td>\n",
              "      <td>False</td>\n",
              "      <td>True</td>\n",
              "      <td>...</td>\n",
              "      <td>37.0</td>\n",
              "      <td>25</td>\n",
              "      <td>03</td>\n",
              "      <td>1143217.0</td>\n",
              "      <td>1907867.0</td>\n",
              "      <td>2014</td>\n",
              "      <td>02/10/2018 03:50:01 PM</td>\n",
              "      <td>41.903227</td>\n",
              "      <td>-87.749378</td>\n",
              "      <td>(41.903227348, -87.749378259)</td>\n",
              "    </tr>\n",
              "    <tr>\n",
              "      <th>191011</th>\n",
              "      <td>9801461</td>\n",
              "      <td>HX450723</td>\n",
              "      <td>09/26/2014 12:00:00 PM</td>\n",
              "      <td>013XX S CANAL ST</td>\n",
              "      <td>1130</td>\n",
              "      <td>DECEPTIVE PRACTICE</td>\n",
              "      <td>FRAUD OR CONFIDENCE GAME</td>\n",
              "      <td>PARKING LOT/GARAGE(NON.RESID.)</td>\n",
              "      <td>False</td>\n",
              "      <td>False</td>\n",
              "      <td>...</td>\n",
              "      <td>2.0</td>\n",
              "      <td>28</td>\n",
              "      <td>11</td>\n",
              "      <td>1173336.0</td>\n",
              "      <td>1893976.0</td>\n",
              "      <td>2014</td>\n",
              "      <td>02/10/2018 03:50:01 PM</td>\n",
              "      <td>41.864494</td>\n",
              "      <td>-87.639158</td>\n",
              "      <td>(41.864493678, -87.639158)</td>\n",
              "    </tr>\n",
              "    <tr>\n",
              "      <th>161563</th>\n",
              "      <td>9729141</td>\n",
              "      <td>HX367831</td>\n",
              "      <td>07/31/2014 10:45:00 AM</td>\n",
              "      <td>041XX W VAN BUREN ST</td>\n",
              "      <td>2027</td>\n",
              "      <td>NARCOTICS</td>\n",
              "      <td>POSS: CRACK</td>\n",
              "      <td>STREET</td>\n",
              "      <td>True</td>\n",
              "      <td>False</td>\n",
              "      <td>...</td>\n",
              "      <td>24.0</td>\n",
              "      <td>26</td>\n",
              "      <td>18</td>\n",
              "      <td>1148952.0</td>\n",
              "      <td>1897703.0</td>\n",
              "      <td>2014</td>\n",
              "      <td>02/10/2018 03:50:01 PM</td>\n",
              "      <td>41.875227</td>\n",
              "      <td>-87.728575</td>\n",
              "      <td>(41.875227172, -87.728575345)</td>\n",
              "    </tr>\n",
              "    <tr>\n",
              "      <th>88682</th>\n",
              "      <td>9542019</td>\n",
              "      <td>HX195539</td>\n",
              "      <td>03/23/2014 06:45:00 AM</td>\n",
              "      <td>114XX S DR MARTIN LUTHER KING JR DR</td>\n",
              "      <td>5002</td>\n",
              "      <td>OTHER OFFENSE</td>\n",
              "      <td>OTHER VEHICLE OFFENSE</td>\n",
              "      <td>STREET</td>\n",
              "      <td>False</td>\n",
              "      <td>True</td>\n",
              "      <td>...</td>\n",
              "      <td>9.0</td>\n",
              "      <td>49</td>\n",
              "      <td>26</td>\n",
              "      <td>1180951.0</td>\n",
              "      <td>1829231.0</td>\n",
              "      <td>2014</td>\n",
              "      <td>02/10/2018 03:50:01 PM</td>\n",
              "      <td>41.686655</td>\n",
              "      <td>-87.613194</td>\n",
              "      <td>(41.686654673, -87.613194069)</td>\n",
              "    </tr>\n",
              "    <tr>\n",
              "      <th>8448</th>\n",
              "      <td>9657646</td>\n",
              "      <td>HX307529</td>\n",
              "      <td>06/16/2014 08:00:00 PM</td>\n",
              "      <td>009XX W 87TH ST</td>\n",
              "      <td>0560</td>\n",
              "      <td>ASSAULT</td>\n",
              "      <td>SIMPLE</td>\n",
              "      <td>SIDEWALK</td>\n",
              "      <td>False</td>\n",
              "      <td>False</td>\n",
              "      <td>...</td>\n",
              "      <td>21.0</td>\n",
              "      <td>71</td>\n",
              "      <td>08A</td>\n",
              "      <td>1171644.0</td>\n",
              "      <td>1847147.0</td>\n",
              "      <td>2014</td>\n",
              "      <td>02/04/2016 06:33:39 AM</td>\n",
              "      <td>41.736027</td>\n",
              "      <td>-87.646742</td>\n",
              "      <td>(41.736027301, -87.646742401)</td>\n",
              "    </tr>\n",
              "    <tr>\n",
              "      <th>175509</th>\n",
              "      <td>9769916</td>\n",
              "      <td>HX420993</td>\n",
              "      <td>09/08/2014 07:45:00 PM</td>\n",
              "      <td>112XX S VERNON AVE</td>\n",
              "      <td>0810</td>\n",
              "      <td>THEFT</td>\n",
              "      <td>OVER $500</td>\n",
              "      <td>SIDEWALK</td>\n",
              "      <td>False</td>\n",
              "      <td>False</td>\n",
              "      <td>...</td>\n",
              "      <td>9.0</td>\n",
              "      <td>49</td>\n",
              "      <td>06</td>\n",
              "      <td>1181244.0</td>\n",
              "      <td>1830500.0</td>\n",
              "      <td>2014</td>\n",
              "      <td>02/10/2018 03:50:01 PM</td>\n",
              "      <td>41.690130</td>\n",
              "      <td>-87.612083</td>\n",
              "      <td>(41.690130261, -87.612082557)</td>\n",
              "    </tr>\n",
              "    <tr>\n",
              "      <th>226829</th>\n",
              "      <td>9828820</td>\n",
              "      <td>HX477331</td>\n",
              "      <td>10/21/2014 10:30:00 AM</td>\n",
              "      <td>062XX S STONY ISLAND AVE</td>\n",
              "      <td>0820</td>\n",
              "      <td>THEFT</td>\n",
              "      <td>$500 AND UNDER</td>\n",
              "      <td>SCHOOL, PUBLIC, BUILDING</td>\n",
              "      <td>False</td>\n",
              "      <td>False</td>\n",
              "      <td>...</td>\n",
              "      <td>5.0</td>\n",
              "      <td>42</td>\n",
              "      <td>06</td>\n",
              "      <td>1187940.0</td>\n",
              "      <td>1864073.0</td>\n",
              "      <td>2014</td>\n",
              "      <td>02/10/2018 03:50:01 PM</td>\n",
              "      <td>41.782102</td>\n",
              "      <td>-87.586502</td>\n",
              "      <td>(41.78210152, -87.586502002)</td>\n",
              "    </tr>\n",
              "    <tr>\n",
              "      <th>158644</th>\n",
              "      <td>9759338</td>\n",
              "      <td>HX409350</td>\n",
              "      <td>08/31/2014 02:10:00 AM</td>\n",
              "      <td>020XX N WINCHESTER AVE</td>\n",
              "      <td>0320</td>\n",
              "      <td>ROBBERY</td>\n",
              "      <td>STRONGARM - NO WEAPON</td>\n",
              "      <td>SIDEWALK</td>\n",
              "      <td>True</td>\n",
              "      <td>False</td>\n",
              "      <td>...</td>\n",
              "      <td>32.0</td>\n",
              "      <td>22</td>\n",
              "      <td>03</td>\n",
              "      <td>1163034.0</td>\n",
              "      <td>1913581.0</td>\n",
              "      <td>2014</td>\n",
              "      <td>02/10/2018 03:50:01 PM</td>\n",
              "      <td>41.918514</td>\n",
              "      <td>-87.676425</td>\n",
              "      <td>(41.918513722, -87.676425395)</td>\n",
              "    </tr>\n",
              "    <tr>\n",
              "      <th>228514</th>\n",
              "      <td>9755013</td>\n",
              "      <td>HX404879</td>\n",
              "      <td>08/27/2014 04:18:00 PM</td>\n",
              "      <td>031XX W POLK ST</td>\n",
              "      <td>2024</td>\n",
              "      <td>NARCOTICS</td>\n",
              "      <td>POSS: HEROIN(WHITE)</td>\n",
              "      <td>ALLEY</td>\n",
              "      <td>True</td>\n",
              "      <td>False</td>\n",
              "      <td>...</td>\n",
              "      <td>24.0</td>\n",
              "      <td>27</td>\n",
              "      <td>18</td>\n",
              "      <td>1155660.0</td>\n",
              "      <td>1896202.0</td>\n",
              "      <td>2014</td>\n",
              "      <td>02/10/2018 03:50:01 PM</td>\n",
              "      <td>41.870976</td>\n",
              "      <td>-87.703987</td>\n",
              "      <td>(41.870975935, -87.703986513)</td>\n",
              "    </tr>\n",
              "    <tr>\n",
              "      <th>199565</th>\n",
              "      <td>9792336</td>\n",
              "      <td>HX440911</td>\n",
              "      <td>09/24/2014 05:45:00 AM</td>\n",
              "      <td>034XX W FRANKLIN BLVD</td>\n",
              "      <td>0486</td>\n",
              "      <td>BATTERY</td>\n",
              "      <td>DOMESTIC BATTERY SIMPLE</td>\n",
              "      <td>OTHER</td>\n",
              "      <td>False</td>\n",
              "      <td>True</td>\n",
              "      <td>...</td>\n",
              "      <td>27.0</td>\n",
              "      <td>23</td>\n",
              "      <td>08B</td>\n",
              "      <td>1153269.0</td>\n",
              "      <td>1903118.0</td>\n",
              "      <td>2014</td>\n",
              "      <td>02/10/2018 03:50:01 PM</td>\n",
              "      <td>41.890002</td>\n",
              "      <td>-87.712581</td>\n",
              "      <td>(41.89000193, -87.712581124)</td>\n",
              "    </tr>\n",
              "  </tbody>\n",
              "</table>\n",
              "<p>10 rows × 22 columns</p>\n",
              "</div>"
            ],
            "text/plain": [
              "             ID Case Number                    Date  \\\n",
              "59768   9615584    HX265228  05/17/2014 12:25:00 PM   \n",
              "191011  9801461    HX450723  09/26/2014 12:00:00 PM   \n",
              "161563  9729141    HX367831  07/31/2014 10:45:00 AM   \n",
              "88682   9542019    HX195539  03/23/2014 06:45:00 AM   \n",
              "8448    9657646    HX307529  06/16/2014 08:00:00 PM   \n",
              "175509  9769916    HX420993  09/08/2014 07:45:00 PM   \n",
              "226829  9828820    HX477331  10/21/2014 10:30:00 AM   \n",
              "158644  9759338    HX409350  08/31/2014 02:10:00 AM   \n",
              "228514  9755013    HX404879  08/27/2014 04:18:00 PM   \n",
              "199565  9792336    HX440911  09/24/2014 05:45:00 AM   \n",
              "\n",
              "                                      Block  IUCR        Primary Type  \\\n",
              "59768                    049XX W CRYSTAL ST  0320             ROBBERY   \n",
              "191011                     013XX S CANAL ST  1130  DECEPTIVE PRACTICE   \n",
              "161563                 041XX W VAN BUREN ST  2027           NARCOTICS   \n",
              "88682   114XX S DR MARTIN LUTHER KING JR DR  5002       OTHER OFFENSE   \n",
              "8448                        009XX W 87TH ST  0560             ASSAULT   \n",
              "175509                   112XX S VERNON AVE  0810               THEFT   \n",
              "226829             062XX S STONY ISLAND AVE  0820               THEFT   \n",
              "158644               020XX N WINCHESTER AVE  0320             ROBBERY   \n",
              "228514                      031XX W POLK ST  2024           NARCOTICS   \n",
              "199565                034XX W FRANKLIN BLVD  0486             BATTERY   \n",
              "\n",
              "                     Description            Location Description  Arrest  \\\n",
              "59768      STRONGARM - NO WEAPON                       RESIDENCE   False   \n",
              "191011  FRAUD OR CONFIDENCE GAME  PARKING LOT/GARAGE(NON.RESID.)   False   \n",
              "161563               POSS: CRACK                          STREET    True   \n",
              "88682      OTHER VEHICLE OFFENSE                          STREET   False   \n",
              "8448                      SIMPLE                        SIDEWALK   False   \n",
              "175509                 OVER $500                        SIDEWALK   False   \n",
              "226829            $500 AND UNDER        SCHOOL, PUBLIC, BUILDING   False   \n",
              "158644     STRONGARM - NO WEAPON                        SIDEWALK    True   \n",
              "228514       POSS: HEROIN(WHITE)                           ALLEY    True   \n",
              "199565   DOMESTIC BATTERY SIMPLE                           OTHER   False   \n",
              "\n",
              "        Domestic  ...  Ward  Community Area  FBI Code  X Coordinate  \\\n",
              "59768       True  ...  37.0              25        03     1143217.0   \n",
              "191011     False  ...   2.0              28        11     1173336.0   \n",
              "161563     False  ...  24.0              26        18     1148952.0   \n",
              "88682       True  ...   9.0              49        26     1180951.0   \n",
              "8448       False  ...  21.0              71       08A     1171644.0   \n",
              "175509     False  ...   9.0              49        06     1181244.0   \n",
              "226829     False  ...   5.0              42        06     1187940.0   \n",
              "158644     False  ...  32.0              22        03     1163034.0   \n",
              "228514     False  ...  24.0              27        18     1155660.0   \n",
              "199565      True  ...  27.0              23       08B     1153269.0   \n",
              "\n",
              "       Y Coordinate  Year              Updated On   Latitude  Longitude  \\\n",
              "59768     1907867.0  2014  02/10/2018 03:50:01 PM  41.903227 -87.749378   \n",
              "191011    1893976.0  2014  02/10/2018 03:50:01 PM  41.864494 -87.639158   \n",
              "161563    1897703.0  2014  02/10/2018 03:50:01 PM  41.875227 -87.728575   \n",
              "88682     1829231.0  2014  02/10/2018 03:50:01 PM  41.686655 -87.613194   \n",
              "8448      1847147.0  2014  02/04/2016 06:33:39 AM  41.736027 -87.646742   \n",
              "175509    1830500.0  2014  02/10/2018 03:50:01 PM  41.690130 -87.612083   \n",
              "226829    1864073.0  2014  02/10/2018 03:50:01 PM  41.782102 -87.586502   \n",
              "158644    1913581.0  2014  02/10/2018 03:50:01 PM  41.918514 -87.676425   \n",
              "228514    1896202.0  2014  02/10/2018 03:50:01 PM  41.870976 -87.703987   \n",
              "199565    1903118.0  2014  02/10/2018 03:50:01 PM  41.890002 -87.712581   \n",
              "\n",
              "                             Location  \n",
              "59768   (41.903227348, -87.749378259)  \n",
              "191011     (41.864493678, -87.639158)  \n",
              "161563  (41.875227172, -87.728575345)  \n",
              "88682   (41.686654673, -87.613194069)  \n",
              "8448    (41.736027301, -87.646742401)  \n",
              "175509  (41.690130261, -87.612082557)  \n",
              "226829   (41.78210152, -87.586502002)  \n",
              "158644  (41.918513722, -87.676425395)  \n",
              "228514  (41.870975935, -87.703986513)  \n",
              "199565   (41.89000193, -87.712581124)  \n",
              "\n",
              "[10 rows x 22 columns]"
            ]
          },
          "execution_count": 40,
          "metadata": {},
          "output_type": "execute_result"
        }
      ],
      "source": [
        "# 1.2 Get a view\n",
        "df_raw.sample(10)\n"
      ]
    },
    {
      "cell_type": "code",
      "execution_count": 41,
      "metadata": {
        "id": "RpneURMpqI_Q"
      },
      "outputs": [
        {
          "name": "stdout",
          "output_type": "stream",
          "text": [
            "<class 'pandas.core.frame.DataFrame'>\n",
            "RangeIndex: 275846 entries, 0 to 275845\n",
            "Data columns (total 22 columns):\n",
            " #   Column                Non-Null Count   Dtype  \n",
            "---  ------                --------------   -----  \n",
            " 0   ID                    275846 non-null  int64  \n",
            " 1   Case Number           275846 non-null  object \n",
            " 2   Date                  275846 non-null  object \n",
            " 3   Block                 275846 non-null  object \n",
            " 4   IUCR                  275846 non-null  object \n",
            " 5   Primary Type          275846 non-null  object \n",
            " 6   Description           275846 non-null  object \n",
            " 7   Location Description  275435 non-null  object \n",
            " 8   Arrest                275846 non-null  bool   \n",
            " 9   Domestic              275846 non-null  bool   \n",
            " 10  Beat                  275846 non-null  int64  \n",
            " 11  District              275846 non-null  int64  \n",
            " 12  Ward                  275844 non-null  float64\n",
            " 13  Community Area        275846 non-null  int64  \n",
            " 14  FBI Code              275846 non-null  object \n",
            " 15  X Coordinate          273779 non-null  float64\n",
            " 16  Y Coordinate          273779 non-null  float64\n",
            " 17  Year                  275846 non-null  int64  \n",
            " 18  Updated On            275846 non-null  object \n",
            " 19  Latitude              273779 non-null  float64\n",
            " 20  Longitude             273779 non-null  float64\n",
            " 21  Location              273779 non-null  object \n",
            "dtypes: bool(2), float64(5), int64(5), object(10)\n",
            "memory usage: 42.6+ MB\n"
          ]
        }
      ],
      "source": [
        "# 1.3 Get info\n",
        "df_raw.info()"
      ]
    },
    {
      "cell_type": "code",
      "execution_count": 42,
      "metadata": {
        "id": "Qo1fhRbRtHFQ"
      },
      "outputs": [
        {
          "name": "stderr",
          "output_type": "stream",
          "text": [
            "/tmp/ipykernel_12967/2071050112.py:3: UserWarning: Could not infer format, so each element will be parsed individually, falling back to `dateutil`. To ensure parsing is consistent and as-expected, please specify a format.\n",
            "  df[\"Date\"] = pd.to_datetime(df[\"Date\"])\n",
            "/tmp/ipykernel_12967/2071050112.py:4: UserWarning: Could not infer format, so each element will be parsed individually, falling back to `dateutil`. To ensure parsing is consistent and as-expected, please specify a format.\n",
            "  df[\"Updated On\"] = pd.to_datetime(df[\"Updated On\"])\n"
          ]
        }
      ],
      "source": [
        "# 1.4 Let's make some transformations\n",
        "df = df_raw.copy()\n",
        "df[\"Date\"] = pd.to_datetime(df[\"Date\"])\n",
        "df[\"Updated On\"] = pd.to_datetime(df[\"Updated On\"])\n"
      ]
    },
    {
      "cell_type": "code",
      "execution_count": 43,
      "metadata": {
        "id": "8VCYPSyeu66q"
      },
      "outputs": [
        {
          "data": {
            "text/html": [
              "<div>\n",
              "<style scoped>\n",
              "    .dataframe tbody tr th:only-of-type {\n",
              "        vertical-align: middle;\n",
              "    }\n",
              "\n",
              "    .dataframe tbody tr th {\n",
              "        vertical-align: top;\n",
              "    }\n",
              "\n",
              "    .dataframe thead th {\n",
              "        text-align: right;\n",
              "    }\n",
              "</style>\n",
              "<table border=\"1\" class=\"dataframe\">\n",
              "  <thead>\n",
              "    <tr style=\"text-align: right;\">\n",
              "      <th></th>\n",
              "      <th>ID</th>\n",
              "      <th>Case Number</th>\n",
              "      <th>Date</th>\n",
              "      <th>Block</th>\n",
              "      <th>IUCR</th>\n",
              "      <th>Primary Type</th>\n",
              "      <th>Description</th>\n",
              "      <th>Location Description</th>\n",
              "      <th>Arrest</th>\n",
              "      <th>Domestic</th>\n",
              "      <th>...</th>\n",
              "      <th>Ward</th>\n",
              "      <th>Community Area</th>\n",
              "      <th>FBI Code</th>\n",
              "      <th>X Coordinate</th>\n",
              "      <th>Y Coordinate</th>\n",
              "      <th>Year</th>\n",
              "      <th>Updated On</th>\n",
              "      <th>Latitude</th>\n",
              "      <th>Longitude</th>\n",
              "      <th>Location</th>\n",
              "    </tr>\n",
              "  </thead>\n",
              "  <tbody>\n",
              "    <tr>\n",
              "      <th>215173</th>\n",
              "      <td>9859552</td>\n",
              "      <td>HX509323</td>\n",
              "      <td>2014-11-16 16:28:00</td>\n",
              "      <td>054XX W JACKSON BLVD</td>\n",
              "      <td>0610</td>\n",
              "      <td>BURGLARY</td>\n",
              "      <td>FORCIBLE ENTRY</td>\n",
              "      <td>RESIDENCE-GARAGE</td>\n",
              "      <td>True</td>\n",
              "      <td>False</td>\n",
              "      <td>...</td>\n",
              "      <td>29.0</td>\n",
              "      <td>25</td>\n",
              "      <td>05</td>\n",
              "      <td>1140310.0</td>\n",
              "      <td>1898139.0</td>\n",
              "      <td>2014</td>\n",
              "      <td>2018-02-10 15:50:01</td>\n",
              "      <td>41.876586</td>\n",
              "      <td>-87.760295</td>\n",
              "      <td>(41.876586319, -87.760295051)</td>\n",
              "    </tr>\n",
              "    <tr>\n",
              "      <th>192335</th>\n",
              "      <td>9811308</td>\n",
              "      <td>HX459726</td>\n",
              "      <td>2014-10-08 12:00:00</td>\n",
              "      <td>003XX S WABASH AVE</td>\n",
              "      <td>0810</td>\n",
              "      <td>THEFT</td>\n",
              "      <td>OVER $500</td>\n",
              "      <td>SIDEWALK</td>\n",
              "      <td>False</td>\n",
              "      <td>False</td>\n",
              "      <td>...</td>\n",
              "      <td>2.0</td>\n",
              "      <td>32</td>\n",
              "      <td>06</td>\n",
              "      <td>1176858.0</td>\n",
              "      <td>1898900.0</td>\n",
              "      <td>2014</td>\n",
              "      <td>2018-02-10 15:50:01</td>\n",
              "      <td>41.877927</td>\n",
              "      <td>-87.626080</td>\n",
              "      <td>(41.877926556, -87.626079988)</td>\n",
              "    </tr>\n",
              "  </tbody>\n",
              "</table>\n",
              "<p>2 rows × 22 columns</p>\n",
              "</div>"
            ],
            "text/plain": [
              "             ID Case Number                Date                 Block  IUCR  \\\n",
              "215173  9859552    HX509323 2014-11-16 16:28:00  054XX W JACKSON BLVD  0610   \n",
              "192335  9811308    HX459726 2014-10-08 12:00:00    003XX S WABASH AVE  0810   \n",
              "\n",
              "       Primary Type     Description Location Description  Arrest  Domestic  \\\n",
              "215173     BURGLARY  FORCIBLE ENTRY     RESIDENCE-GARAGE    True     False   \n",
              "192335        THEFT       OVER $500             SIDEWALK   False     False   \n",
              "\n",
              "        ...  Ward  Community Area  FBI Code  X Coordinate Y Coordinate  Year  \\\n",
              "215173  ...  29.0              25        05     1140310.0    1898139.0  2014   \n",
              "192335  ...   2.0              32        06     1176858.0    1898900.0  2014   \n",
              "\n",
              "                Updated On   Latitude  Longitude  \\\n",
              "215173 2018-02-10 15:50:01  41.876586 -87.760295   \n",
              "192335 2018-02-10 15:50:01  41.877927 -87.626080   \n",
              "\n",
              "                             Location  \n",
              "215173  (41.876586319, -87.760295051)  \n",
              "192335  (41.877926556, -87.626079988)  \n",
              "\n",
              "[2 rows x 22 columns]"
            ]
          },
          "execution_count": 43,
          "metadata": {},
          "output_type": "execute_result"
        }
      ],
      "source": [
        "# 1.4.1 Visualize the transformations\n",
        "df.sample(2)"
      ]
    },
    {
      "cell_type": "code",
      "execution_count": 45,
      "metadata": {
        "id": "YbKDW0kJxiwG"
      },
      "outputs": [
        {
          "data": {
            "text/html": [
              "<div>\n",
              "<style scoped>\n",
              "    .dataframe tbody tr th:only-of-type {\n",
              "        vertical-align: middle;\n",
              "    }\n",
              "\n",
              "    .dataframe tbody tr th {\n",
              "        vertical-align: top;\n",
              "    }\n",
              "\n",
              "    .dataframe thead th {\n",
              "        text-align: right;\n",
              "    }\n",
              "</style>\n",
              "<table border=\"1\" class=\"dataframe\">\n",
              "  <thead>\n",
              "    <tr style=\"text-align: right;\">\n",
              "      <th></th>\n",
              "      <th>Case Number</th>\n",
              "      <th>Block</th>\n",
              "      <th>IUCR</th>\n",
              "      <th>Primary Type</th>\n",
              "      <th>Description</th>\n",
              "      <th>Location Description</th>\n",
              "      <th>Arrest</th>\n",
              "      <th>Domestic</th>\n",
              "      <th>Ward</th>\n",
              "      <th>Community Area</th>\n",
              "      <th>FBI Code</th>\n",
              "      <th>Location</th>\n",
              "    </tr>\n",
              "  </thead>\n",
              "  <tbody>\n",
              "    <tr>\n",
              "      <th>count</th>\n",
              "      <td>275846</td>\n",
              "      <td>275846</td>\n",
              "      <td>275846</td>\n",
              "      <td>275846</td>\n",
              "      <td>275846</td>\n",
              "      <td>275435</td>\n",
              "      <td>275846</td>\n",
              "      <td>275846</td>\n",
              "      <td>275844.0</td>\n",
              "      <td>275846</td>\n",
              "      <td>275846</td>\n",
              "      <td>273779</td>\n",
              "    </tr>\n",
              "    <tr>\n",
              "      <th>unique</th>\n",
              "      <td>275838</td>\n",
              "      <td>27539</td>\n",
              "      <td>329</td>\n",
              "      <td>34</td>\n",
              "      <td>333</td>\n",
              "      <td>135</td>\n",
              "      <td>2</td>\n",
              "      <td>2</td>\n",
              "      <td>50.0</td>\n",
              "      <td>77</td>\n",
              "      <td>26</td>\n",
              "      <td>138531</td>\n",
              "    </tr>\n",
              "    <tr>\n",
              "      <th>top</th>\n",
              "      <td>HX119907</td>\n",
              "      <td>001XX N STATE ST</td>\n",
              "      <td>0820</td>\n",
              "      <td>THEFT</td>\n",
              "      <td>$500 AND UNDER</td>\n",
              "      <td>STREET</td>\n",
              "      <td>False</td>\n",
              "      <td>False</td>\n",
              "      <td>28.0</td>\n",
              "      <td>25</td>\n",
              "      <td>06</td>\n",
              "      <td>(41.883500187, -87.627876698)</td>\n",
              "    </tr>\n",
              "    <tr>\n",
              "      <th>freq</th>\n",
              "      <td>2</td>\n",
              "      <td>773</td>\n",
              "      <td>28868</td>\n",
              "      <td>61568</td>\n",
              "      <td>28868</td>\n",
              "      <td>63085</td>\n",
              "      <td>196189</td>\n",
              "      <td>228326</td>\n",
              "      <td>14559.0</td>\n",
              "      <td>18820</td>\n",
              "      <td>61568</td>\n",
              "      <td>458</td>\n",
              "    </tr>\n",
              "  </tbody>\n",
              "</table>\n",
              "</div>"
            ],
            "text/plain": [
              "       Case Number             Block    IUCR Primary Type     Description  \\\n",
              "count       275846            275846  275846       275846          275846   \n",
              "unique      275838             27539     329           34             333   \n",
              "top       HX119907  001XX N STATE ST    0820        THEFT  $500 AND UNDER   \n",
              "freq             2               773   28868        61568           28868   \n",
              "\n",
              "       Location Description  Arrest Domestic      Ward  Community Area  \\\n",
              "count                275435  275846   275846  275844.0          275846   \n",
              "unique                  135       2        2      50.0              77   \n",
              "top                  STREET   False    False      28.0              25   \n",
              "freq                  63085  196189   228326   14559.0           18820   \n",
              "\n",
              "       FBI Code                       Location  \n",
              "count    275846                         273779  \n",
              "unique       26                         138531  \n",
              "top          06  (41.883500187, -87.627876698)  \n",
              "freq      61568                            458  "
            ]
          },
          "execution_count": 45,
          "metadata": {},
          "output_type": "execute_result"
        }
      ],
      "source": [
        "# 1.5 How many single values are in our categorical variables?\n",
        "my_list = ['Block','Primary Type','Description','FBI Code','Community Area','Location Description','Ward','IUCR']\n",
        "df[my_list] = df[my_list].astype('category')\n",
        "df.describe(exclude=[np.number,np.datetime64])"
      ]
    },
    {
      "cell_type": "code",
      "execution_count": null,
      "metadata": {
        "id": "uYHXN5FSz3bB"
      },
      "outputs": [],
      "source": [
        "# 1.6 Let's create our categorical variables"
      ]
    },
    {
      "cell_type": "markdown",
      "metadata": {
        "id": "zM2PKJNk42XD"
      },
      "source": [
        "Let's agree to a coding convention. We'll make our columns a single word, in lower case. For example our column `Case Number` will be `case_number`"
      ]
    },
    {
      "cell_type": "code",
      "execution_count": 48,
      "metadata": {
        "id": "m6eg6XHa40Xy"
      },
      "outputs": [
        {
          "data": {
            "text/plain": [
              "Index(['id', 'case_number', 'date', 'block', 'iucr', 'primary_type',\n",
              "       'description', 'location_description', 'arrest', 'domestic', 'beat',\n",
              "       'district', 'ward', 'community_area', 'fbi_code', 'x_coordinate',\n",
              "       'y_coordinate', 'year', 'updated_on', 'latitude', 'longitude',\n",
              "       'location'],\n",
              "      dtype='object')"
            ]
          },
          "execution_count": 48,
          "metadata": {},
          "output_type": "execute_result"
        }
      ],
      "source": [
        "# 1.7 Let's convert our columns then\n",
        "df.columns = df.columns.str.strip().str.lower().str.replace(\" \",'_')\n"
      ]
    },
    {
      "cell_type": "markdown",
      "metadata": {
        "id": "2elv7ngpw26U"
      },
      "source": [
        "Now let me bring a new concept to the table: Tidy Data.\n",
        "\n",
        "Tidy data is a standard way of mapping the meaning of a dataset to its structure. A dataset is messy or tidy depending on how rows, columns and tables are matched up with observations, variables and types. In tidy data:\n",
        "\n",
        "- Every column is a variable.\n",
        "\n",
        "- Every row is an observation.\n",
        "\n",
        "- Every cell is a single value.\n",
        "\n",
        "Tidy data makes it easy for an analyst or a computer to extract needed variables because it provides a standard way of structuring a dataset. Compare the different versions of the classroom data: in the messy version you need to use different strategies to extract different variables. This slows analysis and invites errors. If you consider how many data analysis operations involve all of the values in a variable (every aggregation function), you can see how important it is to extract these values in a simple, standard way. [2]"
      ]
    },
    {
      "cell_type": "code",
      "execution_count": null,
      "metadata": {
        "id": "FpINqjmSw0OS"
      },
      "outputs": [],
      "source": [
        "# 1.8 Now let's tidy up our dataset\n",
        "df = df.drop('location', axis=1)"
      ]
    },
    {
      "cell_type": "code",
      "execution_count": 49,
      "metadata": {
        "id": "KGDrcxft-XiB"
      },
      "outputs": [
        {
          "name": "stdout",
          "output_type": "stream",
          "text": [
            "<class 'pandas.core.frame.DataFrame'>\n",
            "RangeIndex: 275846 entries, 0 to 275845\n",
            "Data columns (total 22 columns):\n",
            " #   Column                Non-Null Count   Dtype         \n",
            "---  ------                --------------   -----         \n",
            " 0   id                    275846 non-null  int64         \n",
            " 1   case_number           275846 non-null  object        \n",
            " 2   date                  275846 non-null  datetime64[ns]\n",
            " 3   block                 275846 non-null  category      \n",
            " 4   iucr                  275846 non-null  category      \n",
            " 5   primary_type          275846 non-null  category      \n",
            " 6   description           275846 non-null  category      \n",
            " 7   location_description  275435 non-null  category      \n",
            " 8   arrest                275846 non-null  bool          \n",
            " 9   domestic              275846 non-null  bool          \n",
            " 10  beat                  275846 non-null  int64         \n",
            " 11  district              275846 non-null  int64         \n",
            " 12  ward                  275844 non-null  category      \n",
            " 13  community_area        275846 non-null  category      \n",
            " 14  fbi_code              275846 non-null  category      \n",
            " 15  x_coordinate          273779 non-null  float64       \n",
            " 16  y_coordinate          273779 non-null  float64       \n",
            " 17  year                  275846 non-null  int64         \n",
            " 18  updated_on            275846 non-null  datetime64[ns]\n",
            " 19  latitude              273779 non-null  float64       \n",
            " 20  longitude             273779 non-null  float64       \n",
            " 21  location              273779 non-null  object        \n",
            "dtypes: bool(2), category(8), datetime64[ns](2), float64(4), int64(4), object(2)\n",
            "memory usage: 30.2+ MB\n"
          ]
        }
      ],
      "source": [
        "# 1.8.1 Show information of our transformed dataset\n",
        "df.info()"
      ]
    },
    {
      "cell_type": "code",
      "execution_count": 50,
      "metadata": {},
      "outputs": [
        {
          "data": {
            "text/html": [
              "<div>\n",
              "<style scoped>\n",
              "    .dataframe tbody tr th:only-of-type {\n",
              "        vertical-align: middle;\n",
              "    }\n",
              "\n",
              "    .dataframe tbody tr th {\n",
              "        vertical-align: top;\n",
              "    }\n",
              "\n",
              "    .dataframe thead th {\n",
              "        text-align: right;\n",
              "    }\n",
              "</style>\n",
              "<table border=\"1\" class=\"dataframe\">\n",
              "  <thead>\n",
              "    <tr style=\"text-align: right;\">\n",
              "      <th></th>\n",
              "      <th>id</th>\n",
              "      <th>date</th>\n",
              "      <th>beat</th>\n",
              "      <th>district</th>\n",
              "      <th>x_coordinate</th>\n",
              "      <th>y_coordinate</th>\n",
              "      <th>year</th>\n",
              "      <th>updated_on</th>\n",
              "      <th>latitude</th>\n",
              "      <th>longitude</th>\n",
              "    </tr>\n",
              "  </thead>\n",
              "  <tbody>\n",
              "    <tr>\n",
              "      <th>count</th>\n",
              "      <td>2.758460e+05</td>\n",
              "      <td>275846</td>\n",
              "      <td>275846.000000</td>\n",
              "      <td>275846.000000</td>\n",
              "      <td>2.737790e+05</td>\n",
              "      <td>2.737790e+05</td>\n",
              "      <td>275846.0</td>\n",
              "      <td>275846</td>\n",
              "      <td>273779.000000</td>\n",
              "      <td>273779.000000</td>\n",
              "    </tr>\n",
              "    <tr>\n",
              "      <th>mean</th>\n",
              "      <td>9.683541e+06</td>\n",
              "      <td>2014-07-04 18:47:46.172817408</td>\n",
              "      <td>1142.631276</td>\n",
              "      <td>11.197610</td>\n",
              "      <td>1.164356e+06</td>\n",
              "      <td>1.885349e+06</td>\n",
              "      <td>2014.0</td>\n",
              "      <td>2017-10-22 19:19:14.469878272</td>\n",
              "      <td>41.840996</td>\n",
              "      <td>-87.672406</td>\n",
              "    </tr>\n",
              "    <tr>\n",
              "      <th>min</th>\n",
              "      <td>2.121200e+04</td>\n",
              "      <td>2014-01-01 00:00:00</td>\n",
              "      <td>111.000000</td>\n",
              "      <td>1.000000</td>\n",
              "      <td>0.000000e+00</td>\n",
              "      <td>0.000000e+00</td>\n",
              "      <td>2014.0</td>\n",
              "      <td>2015-08-17 15:03:40</td>\n",
              "      <td>36.619446</td>\n",
              "      <td>-91.686566</td>\n",
              "    </tr>\n",
              "    <tr>\n",
              "      <th>25%</th>\n",
              "      <td>9.575158e+06</td>\n",
              "      <td>2014-04-12 02:02:30</td>\n",
              "      <td>612.000000</td>\n",
              "      <td>6.000000</td>\n",
              "      <td>1.152356e+06</td>\n",
              "      <td>1.858518e+06</td>\n",
              "      <td>2014.0</td>\n",
              "      <td>2018-02-10 15:50:01</td>\n",
              "      <td>41.766999</td>\n",
              "      <td>-87.716063</td>\n",
              "    </tr>\n",
              "    <tr>\n",
              "      <th>50%</th>\n",
              "      <td>9.690226e+06</td>\n",
              "      <td>2014-07-05 19:46:00</td>\n",
              "      <td>1023.000000</td>\n",
              "      <td>10.000000</td>\n",
              "      <td>1.165899e+06</td>\n",
              "      <td>1.891103e+06</td>\n",
              "      <td>2014.0</td>\n",
              "      <td>2018-02-10 15:50:01</td>\n",
              "      <td>41.856790</td>\n",
              "      <td>-87.666507</td>\n",
              "    </tr>\n",
              "    <tr>\n",
              "      <th>75%</th>\n",
              "      <td>9.803724e+06</td>\n",
              "      <td>2014-09-27 03:00:00</td>\n",
              "      <td>1651.000000</td>\n",
              "      <td>16.000000</td>\n",
              "      <td>1.176364e+06</td>\n",
              "      <td>1.908316e+06</td>\n",
              "      <td>2014.0</td>\n",
              "      <td>2018-02-10 15:50:01</td>\n",
              "      <td>41.903997</td>\n",
              "      <td>-87.628093</td>\n",
              "    </tr>\n",
              "    <tr>\n",
              "      <th>max</th>\n",
              "      <td>1.356354e+07</td>\n",
              "      <td>2014-12-31 23:58:00</td>\n",
              "      <td>2535.000000</td>\n",
              "      <td>31.000000</td>\n",
              "      <td>1.205119e+06</td>\n",
              "      <td>1.951507e+06</td>\n",
              "      <td>2014.0</td>\n",
              "      <td>2024-08-18 15:40:47</td>\n",
              "      <td>42.022537</td>\n",
              "      <td>-87.524533</td>\n",
              "    </tr>\n",
              "    <tr>\n",
              "      <th>std</th>\n",
              "      <td>4.287418e+05</td>\n",
              "      <td>NaN</td>\n",
              "      <td>688.962222</td>\n",
              "      <td>6.882186</td>\n",
              "      <td>1.729162e+04</td>\n",
              "      <td>3.231096e+04</td>\n",
              "      <td>0.0</td>\n",
              "      <td>NaN</td>\n",
              "      <td>0.088908</td>\n",
              "      <td>0.062668</td>\n",
              "    </tr>\n",
              "  </tbody>\n",
              "</table>\n",
              "</div>"
            ],
            "text/plain": [
              "                 id                           date           beat  \\\n",
              "count  2.758460e+05                         275846  275846.000000   \n",
              "mean   9.683541e+06  2014-07-04 18:47:46.172817408    1142.631276   \n",
              "min    2.121200e+04            2014-01-01 00:00:00     111.000000   \n",
              "25%    9.575158e+06            2014-04-12 02:02:30     612.000000   \n",
              "50%    9.690226e+06            2014-07-05 19:46:00    1023.000000   \n",
              "75%    9.803724e+06            2014-09-27 03:00:00    1651.000000   \n",
              "max    1.356354e+07            2014-12-31 23:58:00    2535.000000   \n",
              "std    4.287418e+05                            NaN     688.962222   \n",
              "\n",
              "            district  x_coordinate  y_coordinate      year  \\\n",
              "count  275846.000000  2.737790e+05  2.737790e+05  275846.0   \n",
              "mean       11.197610  1.164356e+06  1.885349e+06    2014.0   \n",
              "min         1.000000  0.000000e+00  0.000000e+00    2014.0   \n",
              "25%         6.000000  1.152356e+06  1.858518e+06    2014.0   \n",
              "50%        10.000000  1.165899e+06  1.891103e+06    2014.0   \n",
              "75%        16.000000  1.176364e+06  1.908316e+06    2014.0   \n",
              "max        31.000000  1.205119e+06  1.951507e+06    2014.0   \n",
              "std         6.882186  1.729162e+04  3.231096e+04       0.0   \n",
              "\n",
              "                          updated_on       latitude      longitude  \n",
              "count                         275846  273779.000000  273779.000000  \n",
              "mean   2017-10-22 19:19:14.469878272      41.840996     -87.672406  \n",
              "min              2015-08-17 15:03:40      36.619446     -91.686566  \n",
              "25%              2018-02-10 15:50:01      41.766999     -87.716063  \n",
              "50%              2018-02-10 15:50:01      41.856790     -87.666507  \n",
              "75%              2018-02-10 15:50:01      41.903997     -87.628093  \n",
              "max              2024-08-18 15:40:47      42.022537     -87.524533  \n",
              "std                              NaN       0.088908       0.062668  "
            ]
          },
          "execution_count": 50,
          "metadata": {},
          "output_type": "execute_result"
        }
      ],
      "source": [
        "df.describe()"
      ]
    },
    {
      "cell_type": "markdown",
      "metadata": {
        "id": "9O2c9Rdg_HmX"
      },
      "source": [
        "Now we are ready to answer questions!"
      ]
    },
    {
      "cell_type": "code",
      "execution_count": 65,
      "metadata": {
        "id": "iTcbeKAQ--wp"
      },
      "outputs": [
        {
          "name": "stdout",
          "output_type": "stream",
          "text": [
            "total cases: 275846\n",
            "in december 2014: 20414\n"
          ]
        },
        {
          "data": {
            "image/png": "[encoded data removed]",
            "text/plain": [
              "<Figure size 640x480 with 1 Axes>"
            ]
          },
          "metadata": {},
          "output_type": "display_data"
        },
        {
          "data": {
            "image/png": "[encoded data removed]",
            "text/plain": [
              "<Figure size 640x480 with 1 Axes>"
            ]
          },
          "metadata": {},
          "output_type": "display_data"
        }
      ],
      "source": [
        "# 2. Data analysis\n",
        "# 2.1 How many crimes were reported in 2014?\n",
        "print(f'total cases: {len(df)}')\n",
        "# 2.2 How many crimes were reported in December 2014?\n",
        "mask = (df['date'] >= '2014-12-01') & (df['date'] <= '2014-12-31')\n",
        "print(f'in december 2014: {len(df[mask])}')\n",
        "# 2.3 What are the top 5 crimes?\n",
        "df['primary_type'].value_counts().nlargest(5)\n",
        "# 2.4 Which day has the most and less crimes?\n",
        "by_day = df['date'].groupby(df['date'].dt.day_of_week).count()\n",
        "plt.plot(by_day)\n",
        "plt.ylim([0,100000])\n",
        "plt.show()\n",
        "# 2.5 Is there a trend in the crimes commited?\n",
        "byte_week = df['date'].groupby(df['date'].dt.isocalendar().week).count()\n",
        "plt.plot(byte_week)\n",
        "plt.ylim([0,10000])\n",
        "plt.show()"
      ]
    },
    {
      "cell_type": "markdown",
      "metadata": {
        "id": "JZp5nO1QWTsM"
      },
      "source": [
        "## References\n",
        "[1] Chicago Data Portal. (August 27, 2024). *Crimes 2001-to date*, downloaded from https://data.cityofchicago.org/api/views/qnmj-8ku6/rows.csv?accessType=DOWNLOAD  \n",
        "[2] Hadley Wickham and Garrett Grolemund. (Aug 27. 2024). *R for Data Science*, downloaded from https://r4ds.had.co.nz/tidy-data.html"
      ]
    }
  ],
  "metadata": {
    "colab": {
      "provenance": []
    },
    "kernelspec": {
      "display_name": "Python 3",
      "name": "python3"
    },
    "language_info": {
      "codemirror_mode": {
        "name": "ipython",
        "version": 3
      },
      "file_extension": ".py",
      "mimetype": "text/x-python",
      "name": "python",
      "nbconvert_exporter": "python",
      "pygments_lexer": "ipython3",
      "version": "3.12.1"
    }
  },
  "nbformat": 4,
  "nbformat_minor": 0
}
